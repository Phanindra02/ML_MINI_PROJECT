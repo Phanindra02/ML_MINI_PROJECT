{
 "cells": [
  {
   "cell_type": "code",
   "execution_count": 1,
   "id": "f9c95dc3",
   "metadata": {},
   "outputs": [
    {
     "name": "stdout",
     "output_type": "stream",
     "text": [
      "\"Hi\"! My name is Phanindra.\n"
     ]
    }
   ],
   "source": [
    "# Printing my name\n",
    "print('\"Hi\"! My name is Phanindra.')"
   ]
  },
  {
   "cell_type": "code",
   "execution_count": 2,
   "id": "0461d432",
   "metadata": {},
   "outputs": [
    {
     "name": "stdout",
     "output_type": "stream",
     "text": [
      "\"Make everyday a little less ordinary.\"-Anonymous\n"
     ]
    }
   ],
   "source": [
    "# Printing a quote using \" \"\n",
    "print('\"Make everyday a little less ordinary.\"-Anonymous')"
   ]
  },
  {
   "cell_type": "code",
   "execution_count": 3,
   "id": "1b68d1ab",
   "metadata": {},
   "outputs": [
    {
     "name": "stdout",
     "output_type": "stream",
     "text": [
      "    @@@@\n",
      "   {    }\n",
      "   @@@@@@@\n",
      "  {       }\n",
      " @@@@@@@@@@@\n",
      "{           }\n"
     ]
    }
   ],
   "source": [
    "# Printing a required pattern\n",
    "for i in [4,7,11]:\n",
    "    for _ in range(i,12,2):\n",
    "        print(end=' ')\n",
    "    for _ in range(i):\n",
    "        print(end='@')\n",
    "    print()\n",
    "    for _ in range(i+2,12,2):\n",
    "        print(end=' ')\n",
    "    print(end='{')\n",
    "    for _ in range(i):\n",
    "        print(end=' ')\n",
    "    print('}')"
   ]
  },
  {
   "cell_type": "code",
   "execution_count": 4,
   "id": "1fca3ed6",
   "metadata": {},
   "outputs": [
    {
     "name": "stdout",
     "output_type": "stream",
     "text": [
      "We saw different shapes this time.\n",
      "We saw the same shape!\n",
      "We saw different shapes this time.\n",
      "We saw the same shape!\n",
      "We saw different shapes this time.\n",
      "We saw different shapes this time.\n"
     ]
    }
   ],
   "source": [
    "# Checking whether two lists have same elements at an index\n",
    "your_cloud_shapes=['circle','turtle','dolphin','truck','apple','spoon']\n",
    "friend_cloud_shapes=['apple','turtle','spoon','truck','circle','dolphin']\n",
    "for i in range(len(your_cloud_shapes)):\n",
    "    if your_cloud_shapes[i]==friend_cloud_shapes[i]:\n",
    "        print('We saw the same shape!')\n",
    "    elif your_cloud_shapes[i]!=friend_cloud_shapes[i]:\n",
    "        print('We saw different shapes this time.')"
   ]
  },
  {
   "cell_type": "code",
   "execution_count": 5,
   "id": "d144a928",
   "metadata": {
    "scrolled": true
   },
   "outputs": [
    {
     "name": "stdout",
     "output_type": "stream",
     "text": [
      "['Adrienne', 'Tache', 'brown', 'black', '10', '10'] are stored in a list!\n",
      "('cats', 'dogs', 'turtles', 'bunnies') are stored in a tuple!\n",
      "['red', 'orange', 'yellow', 'green', 'blue', 'indigo', 'violet'] are stored in a list!\n"
     ]
    }
   ],
   "source": [
    "# Printing whether the elements are stored in List or Tuple\n",
    "person=['Adrienne','Tache','brown','black','10','10']\n",
    "print(person,'are stored in a list!')\n",
    "animals=('cats','dogs','turtles','bunnies')\n",
    "print(animals,'are stored in a tuple!')\n",
    "colors=['red','orange','yellow','green','blue','indigo','violet']\n",
    "print(colors,'are stored in a list!')"
   ]
  },
  {
   "cell_type": "code",
   "execution_count": 6,
   "id": "49d32e2f",
   "metadata": {},
   "outputs": [
    {
     "name": "stdout",
     "output_type": "stream",
     "text": [
      "333\n"
     ]
    }
   ],
   "source": [
    "# Completing an expression which gives a result of 333\n",
    "print(5**3+175+(3%4)*11)"
   ]
  },
  {
   "cell_type": "code",
   "execution_count": 7,
   "id": "fadd2f26",
   "metadata": {},
   "outputs": [
    {
     "name": "stdout",
     "output_type": "stream",
     "text": [
      "1.20.1\n"
     ]
    }
   ],
   "source": [
    "# Printing the version of the numpy installed\n",
    "import numpy as np\n",
    "print(np.__version__)"
   ]
  },
  {
   "cell_type": "code",
   "execution_count": 8,
   "id": "7c8d4f76",
   "metadata": {},
   "outputs": [
    {
     "name": "stdout",
     "output_type": "stream",
     "text": [
      "[0 1 2 3 4 5 6 7 8 9]\n"
     ]
    }
   ],
   "source": [
    "# Creating a 1d array of numbers from 0 to 9\n",
    "import numpy as np\n",
    "arr=np.arange(10)\n",
    "print(arr)"
   ]
  },
  {
   "cell_type": "code",
   "execution_count": 9,
   "id": "368c96d9",
   "metadata": {},
   "outputs": [
    {
     "name": "stdout",
     "output_type": "stream",
     "text": [
      "[0 0 0 0 0]\n"
     ]
    }
   ],
   "source": [
    "# Creating an array filled with zeroes\n",
    "import numpy as np\n",
    "zeroes=np.zeros(5, dtype=int)\n",
    "print(zeroes)"
   ]
  },
  {
   "cell_type": "code",
   "execution_count": 10,
   "id": "1ac463bc",
   "metadata": {},
   "outputs": [
    {
     "name": "stdout",
     "output_type": "stream",
     "text": [
      "[ 1.    3.25  5.5   7.75 10.  ]\n"
     ]
    }
   ],
   "source": [
    "# Creating an array with evenly spaced numbers\n",
    "import numpy as np\n",
    "evenspace=np.linspace(1,10,5)\n",
    "print(evenspace)"
   ]
  },
  {
   "cell_type": "code",
   "execution_count": 11,
   "id": "3696f481",
   "metadata": {},
   "outputs": [
    {
     "name": "stdout",
     "output_type": "stream",
     "text": [
      "[1 2 3 4 5 6 7 8]\n"
     ]
    }
   ],
   "source": [
    "# Sorting an array\n",
    "import numpy as np\n",
    "srt=np.array([2,1,5,3,7,4,6,8])\n",
    "print(np.sort(srt))"
   ]
  },
  {
   "cell_type": "code",
   "execution_count": 12,
   "id": "c028834d",
   "metadata": {},
   "outputs": [
    {
     "name": "stdout",
     "output_type": "stream",
     "text": [
      ">array([[1 3 5 7 9]])\n"
     ]
    }
   ],
   "source": [
    "# Printing odd values in an array\n",
    "import numpy as np\n",
    "odd=np.array([0,1,2,3,4,5,6,7,8,9])\n",
    "print('>array([{}])'.format(odd[odd%2==1]))"
   ]
  },
  {
   "cell_type": "code",
   "execution_count": 13,
   "id": "d5618a8a",
   "metadata": {},
   "outputs": [
    {
     "name": "stdout",
     "output_type": "stream",
     "text": [
      "[[0 1 2 3 4]\n",
      " [5 6 7 8 9]]\n"
     ]
    }
   ],
   "source": [
    "# Coverting 1d array to 2d array\n",
    "import numpy as np\n",
    "dim1=np.arange(10)\n",
    "dim2=np.reshape(dim1,(2,-1))\n",
    "print(dim2)"
   ]
  },
  {
   "cell_type": "code",
   "execution_count": 14,
   "id": "f0a38592",
   "metadata": {},
   "outputs": [
    {
     "name": "stdout",
     "output_type": "stream",
     "text": [
      "[11 12 13 14 15 16 17 18 19 20]\n"
     ]
    }
   ],
   "source": [
    "# Printing the unique values in an array\n",
    "import numpy as np\n",
    "a=np.array([11,11,12,13,14,15,16,17,12,13,11,14,18,19,20])\n",
    "print(np.unique(a))"
   ]
  },
  {
   "cell_type": "code",
   "execution_count": 15,
   "id": "8272c20d",
   "metadata": {},
   "outputs": [
    {
     "name": "stdout",
     "output_type": "stream",
     "text": [
      "[8 7 6 5 4 3 2 1]\n"
     ]
    }
   ],
   "source": [
    "# Reversing a 1d array\n",
    "import numpy as np\n",
    "a=np.array([1,2,3,4,5,6,7,8])\n",
    "print(np.flipud(a))"
   ]
  },
  {
   "cell_type": "code",
   "execution_count": 16,
   "id": "e9a4311b",
   "metadata": {},
   "outputs": [
    {
     "name": "stdout",
     "output_type": "stream",
     "text": [
      "Length of cat is 3\n",
      "Length of window is 6\n",
      "Length of defenestrate is 12\n"
     ]
    }
   ],
   "source": [
    "# Length of strings\n",
    "words=['cat','window','defenestrate']\n",
    "for i in words:\n",
    "    c=0\n",
    "    for j in i:\n",
    "        c+=1\n",
    "    print('Length of',i,'is',c)"
   ]
  },
  {
   "cell_type": "code",
   "execution_count": 17,
   "id": "2af8234b",
   "metadata": {},
   "outputs": [
    {
     "name": "stdout",
     "output_type": "stream",
     "text": [
      "Mary\n",
      "had\n",
      "a\n",
      "little\n",
      "lamb\n"
     ]
    }
   ],
   "source": [
    "# Iterating over the indices of a sequence\n",
    "lst=['Mary','had','a','little','lamb']\n",
    "for i in range(len(lst)):\n",
    "    print(lst[i])"
   ]
  },
  {
   "cell_type": "code",
   "execution_count": 18,
   "id": "bfce0002",
   "metadata": {},
   "outputs": [
    {
     "name": "stdout",
     "output_type": "stream",
     "text": [
      "2 3 4 5 6 7 8 9 10 11 12 13 14 15 16 17 18 19 20 "
     ]
    }
   ],
   "source": [
    "# Printing Ranks from 2 to 20\n",
    "n=2\n",
    "while n<=20:\n",
    "    print(n,end=' ')\n",
    "    n+=1"
   ]
  },
  {
   "cell_type": "code",
   "execution_count": 22,
   "id": "1d0a0de4",
   "metadata": {},
   "outputs": [
    {
     "name": "stdout",
     "output_type": "stream",
     "text": [
      "Printing the first 10 rows from the last:\n",
      "      pclass  survived                                     name     sex   age  \\\n",
      "1299       3         0                      Yasbeck, Mr. Antoni    male  27.0   \n",
      "1300       3         1  Yasbeck, Mrs. Antoni (Selini Alexander)  female  15.0   \n",
      "1301       3         0                     Youseff, Mr. Gerious    male  45.5   \n",
      "1302       3         0                        Yousif, Mr. Wazli    male   NaN   \n",
      "1303       3         0                    Yousseff, Mr. Gerious    male   NaN   \n",
      "1304       3         0                     Zabour, Miss. Hileni  female  14.5   \n",
      "1305       3         0                    Zabour, Miss. Thamine  female   NaN   \n",
      "1306       3         0                Zakarian, Mr. Mapriededer    male  26.5   \n",
      "1307       3         0                      Zakarian, Mr. Ortin    male  27.0   \n",
      "1308       3         0                       Zimmerman, Mr. Leo    male  29.0   \n",
      "\n",
      "      sibsp  parch  ticket     fare cabin embarked boat   body home.dest  \n",
      "1299      1      0    2659  14.4542   NaN        C    C    NaN       NaN  \n",
      "1300      1      0    2659  14.4542   NaN        C  NaN    NaN       NaN  \n",
      "1301      0      0    2628   7.2250   NaN        C  NaN  312.0       NaN  \n",
      "1302      0      0    2647   7.2250   NaN        C  NaN    NaN       NaN  \n",
      "1303      0      0    2627  14.4583   NaN        C  NaN    NaN       NaN  \n",
      "1304      1      0    2665  14.4542   NaN        C  NaN  328.0       NaN  \n",
      "1305      1      0    2665  14.4542   NaN        C  NaN    NaN       NaN  \n",
      "1306      0      0    2656   7.2250   NaN        C  NaN  304.0       NaN  \n",
      "1307      0      0    2670   7.2250   NaN        C  NaN    NaN       NaN  \n",
      "1308      0      0  315082   7.8750   NaN        S  NaN    NaN       NaN   \n",
      "\n",
      "\n",
      "Printing the first 10 rows from the beginning:\n",
      "   pclass  survived                                             name     sex  \\\n",
      "0       1         1                    Allen, Miss. Elisabeth Walton  female   \n",
      "1       1         1                   Allison, Master. Hudson Trevor    male   \n",
      "2       1         0                     Allison, Miss. Helen Loraine  female   \n",
      "3       1         0             Allison, Mr. Hudson Joshua Creighton    male   \n",
      "4       1         0  Allison, Mrs. Hudson J C (Bessie Waldo Daniels)  female   \n",
      "5       1         1                              Anderson, Mr. Harry    male   \n",
      "6       1         1                Andrews, Miss. Kornelia Theodosia  female   \n",
      "7       1         0                           Andrews, Mr. Thomas Jr    male   \n",
      "8       1         1    Appleton, Mrs. Edward Dale (Charlotte Lamson)  female   \n",
      "9       1         0                          Artagaveytia, Mr. Ramon    male   \n",
      "\n",
      "     age  sibsp  parch    ticket      fare    cabin embarked boat   body  \\\n",
      "0  29.00      0      0     24160  211.3375       B5        S    2    NaN   \n",
      "1   0.92      1      2    113781  151.5500  C22 C26        S   11    NaN   \n",
      "2   2.00      1      2    113781  151.5500  C22 C26        S  NaN    NaN   \n",
      "3  30.00      1      2    113781  151.5500  C22 C26        S  NaN  135.0   \n",
      "4  25.00      1      2    113781  151.5500  C22 C26        S  NaN    NaN   \n",
      "5  48.00      0      0     19952   26.5500      E12        S    3    NaN   \n",
      "6  63.00      1      0     13502   77.9583       D7        S   10    NaN   \n",
      "7  39.00      0      0    112050    0.0000      A36        S  NaN    NaN   \n",
      "8  53.00      2      0     11769   51.4792     C101        S    D    NaN   \n",
      "9  71.00      0      0  PC 17609   49.5042      NaN        C  NaN   22.0   \n",
      "\n",
      "                         home.dest  \n",
      "0                     St Louis, MO  \n",
      "1  Montreal, PQ / Chesterville, ON  \n",
      "2  Montreal, PQ / Chesterville, ON  \n",
      "3  Montreal, PQ / Chesterville, ON  \n",
      "4  Montreal, PQ / Chesterville, ON  \n",
      "5                     New York, NY  \n",
      "6                       Hudson, NY  \n",
      "7                      Belfast, NI  \n",
      "8              Bayside, Queens, NY  \n",
      "9              Montevideo, Uruguay   \n",
      "\n",
      "\n",
      "Filtering the passengers list who are older than 25 years old:\n",
      "      pclass  survived                                  name     sex   age  \\\n",
      "0          1         1         Allen, Miss. Elisabeth Walton  female  29.0   \n",
      "3          1         0  Allison, Mr. Hudson Joshua Creighton    male  30.0   \n",
      "5          1         1                   Anderson, Mr. Harry    male  48.0   \n",
      "6          1         1     Andrews, Miss. Kornelia Theodosia  female  63.0   \n",
      "7          1         0                Andrews, Mr. Thomas Jr    male  39.0   \n",
      "...      ...       ...                                   ...     ...   ...   \n",
      "1299       3         0                   Yasbeck, Mr. Antoni    male  27.0   \n",
      "1301       3         0                  Youseff, Mr. Gerious    male  45.5   \n",
      "1306       3         0             Zakarian, Mr. Mapriededer    male  26.5   \n",
      "1307       3         0                   Zakarian, Mr. Ortin    male  27.0   \n",
      "1308       3         0                    Zimmerman, Mr. Leo    male  29.0   \n",
      "\n",
      "      sibsp  parch  ticket      fare    cabin embarked boat   body  \\\n",
      "0         0      0   24160  211.3375       B5        S    2    NaN   \n",
      "3         1      2  113781  151.5500  C22 C26        S  NaN  135.0   \n",
      "5         0      0   19952   26.5500      E12        S    3    NaN   \n",
      "6         1      0   13502   77.9583       D7        S   10    NaN   \n",
      "7         0      0  112050    0.0000      A36        S  NaN    NaN   \n",
      "...     ...    ...     ...       ...      ...      ...  ...    ...   \n",
      "1299      1      0    2659   14.4542      NaN        C    C    NaN   \n",
      "1301      0      0    2628    7.2250      NaN        C  NaN  312.0   \n",
      "1306      0      0    2656    7.2250      NaN        C  NaN  304.0   \n",
      "1307      0      0    2670    7.2250      NaN        C  NaN    NaN   \n",
      "1308      0      0  315082    7.8750      NaN        S  NaN    NaN   \n",
      "\n",
      "                            home.dest  \n",
      "0                        St Louis, MO  \n",
      "3     Montreal, PQ / Chesterville, ON  \n",
      "5                        New York, NY  \n",
      "6                          Hudson, NY  \n",
      "7                         Belfast, NI  \n",
      "...                               ...  \n",
      "1299                              NaN  \n",
      "1301                              NaN  \n",
      "1306                              NaN  \n",
      "1307                              NaN  \n",
      "1308                              NaN  \n",
      "\n",
      "[603 rows x 14 columns] \n",
      "\n",
      "\n",
      "Printing names of passengers who are older than 35 years old:\n",
      "5                                   Anderson, Mr. Harry\n",
      "6                     Andrews, Miss. Kornelia Theodosia\n",
      "7                                Andrews, Mr. Thomas Jr\n",
      "8         Appleton, Mrs. Edward Dale (Charlotte Lamson)\n",
      "9                               Artagaveytia, Mr. Ramon\n",
      "                             ...                       \n",
      "1286    Whabee, Mrs. George Joseph (Shawneene Abi-Saab)\n",
      "1287                   Widegren, Mr. Carl/Charles Peter\n",
      "1290                   Wilkes, Mrs. James (Ellen Needs)\n",
      "1298                          Wittevrongel, Mr. Camille\n",
      "1301                               Youseff, Mr. Gerious\n",
      "Name: name, Length: 322, dtype: object \n",
      "\n",
      "\n",
      "Printing the median of age, ticket and fare of the titanic passengers:\n",
      "age     28.0000\n",
      "fare    14.4542\n",
      "dtype: float64 \n",
      "\n",
      "\n",
      "Printing the maximum, minimum, mean of age, ticket and fare of the titanic passengers respectively:\n",
      "age            80.0\n",
      "ticket    WE/P 5735\n",
      "fare       512.3292\n",
      "dtype: object \n",
      "\n",
      "age         0.17\n",
      "ticket    110152\n",
      "fare         0.0\n",
      "dtype: object \n",
      "\n",
      "age     29.881138\n",
      "fare    33.295479\n",
      "dtype: float64 \n",
      "\n",
      "Printing mean ticket fare for each of sex and cabin class:\n",
      "sex     cabin\n",
      "female  A11      27.7208\n",
      "        A16      39.6000\n",
      "        A29      31.6792\n",
      "        A34      81.8583\n",
      "        B18      57.9792\n",
      "                  ...   \n",
      "male    F G73     7.6500\n",
      "        F2       22.7500\n",
      "        F38       7.7500\n",
      "        F4       39.0000\n",
      "        T        35.5000\n",
      "Name: fare, Length: 235, dtype: float64 \n",
      "\n",
      "\n",
      "Sorting the titanic csv file according to the age of passengers:\n",
      "      pclass  survived                                     name     sex   age  \\\n",
      "763        3         1  Dean, Miss. Elizabeth Gladys \"Millvina\"  female  0.17   \n",
      "747        3         0  Danbom, Master. Gilbert Sigvard Emanuel    male  0.33   \n",
      "1240       3         1          Thomas, Master. Assad Alexander    male  0.42   \n",
      "427        2         1                Hamalainen, Master. Viljo    male  0.67   \n",
      "1111       3         0           Peacock, Master. Alfred Edward    male  0.75   \n",
      "...      ...       ...                                      ...     ...   ...   \n",
      "1293       3         0        Williams, Mr. Howard Hugh \"Harry\"    male   NaN   \n",
      "1297       3         0                   Wiseman, Mr. Phillippe    male   NaN   \n",
      "1302       3         0                        Yousif, Mr. Wazli    male   NaN   \n",
      "1303       3         0                    Yousseff, Mr. Gerious    male   NaN   \n",
      "1305       3         0                    Zabour, Miss. Thamine  female   NaN   \n",
      "\n",
      "      sibsp  parch              ticket     fare cabin embarked boat  body  \\\n",
      "763       1      2           C.A. 2315  20.5750   NaN        S   10   NaN   \n",
      "747       0      2              347080  14.4000   NaN        S  NaN   NaN   \n",
      "1240      0      1                2625   8.5167   NaN        C   16   NaN   \n",
      "427       1      1              250649  14.5000   NaN        S    4   NaN   \n",
      "1111      1      1  SOTON/O.Q. 3101315  13.7750   NaN        S  NaN   NaN   \n",
      "...     ...    ...                 ...      ...   ...      ...  ...   ...   \n",
      "1293      0      0            A/5 2466   8.0500   NaN        S  NaN   NaN   \n",
      "1297      0      0          A/4. 34244   7.2500   NaN        S  NaN   NaN   \n",
      "1302      0      0                2647   7.2250   NaN        C  NaN   NaN   \n",
      "1303      0      0                2627  14.4583   NaN        C  NaN   NaN   \n",
      "1305      1      0                2665  14.4542   NaN        C  NaN   NaN   \n",
      "\n",
      "                       home.dest  \n",
      "763   Devon, England Wichita, KS  \n",
      "747                  Stanton, IA  \n",
      "1240                         NaN  \n",
      "427                  Detroit, MI  \n",
      "1111                         NaN  \n",
      "...                          ...  \n",
      "1293                         NaN  \n",
      "1297                         NaN  \n",
      "1302                         NaN  \n",
      "1303                         NaN  \n",
      "1305                         NaN  \n",
      "\n",
      "[1309 rows x 14 columns] \n",
      "\n"
     ]
    }
   ],
   "source": [
    "# Using pandas\n",
    "import pandas as pd\n",
    "titanic = pd.read_csv('titanic_lyst7308.csv')\n",
    "print('Printing the first 10 rows from the last:')\n",
    "print(titanic.tail(10),'\\n\\n')\n",
    "\n",
    "print('Printing the first 10 rows from the beginning:')\n",
    "print(titanic.head(10),'\\n\\n')\n",
    "\n",
    "print('Filtering the passengers list who are older than 25 years old:')\n",
    "print(titanic[titanic['age'] > 25],'\\n\\n')\n",
    "\n",
    "print('Printing names of passengers who are older than 35 years old:')\n",
    "print(titanic.loc[titanic['age'] > 35,'name'],'\\n\\n')\n",
    "\n",
    "print('Printing the median of age, ticket and fare of the titanic passengers:')\n",
    "print(titanic[['age','ticket', 'fare']].median(),'\\n\\n')\n",
    "\n",
    "print('Printing the maximum, minimum, mean of age, ticket and fare of the titanic passengers respectively:')\n",
    "print(titanic[['age','ticket', 'fare']].max(),'\\n')\n",
    "print(titanic[['age','ticket', 'fare']].min(),'\\n')\n",
    "print(titanic[['age','ticket', 'fare']].mean(),'\\n')\n",
    "\n",
    "print('Printing mean ticket fare for each of sex and cabin class:')\n",
    "print(titanic.groupby(['sex', 'cabin'])['fare'].mean(),'\\n\\n')\n",
    "\n",
    "print('Sorting the titanic csv file according to the age of passengers:')\n",
    "print(titanic.sort_values(by=['age']),'\\n')\n",
    "\n"
   ]
  }
 ],
 "metadata": {
  "kernelspec": {
   "display_name": "Python 3",
   "language": "python",
   "name": "python3"
  },
  "language_info": {
   "codemirror_mode": {
    "name": "ipython",
    "version": 3
   },
   "file_extension": ".py",
   "mimetype": "text/x-python",
   "name": "python",
   "nbconvert_exporter": "python",
   "pygments_lexer": "ipython3",
   "version": "3.8.8"
  }
 },
 "nbformat": 4,
 "nbformat_minor": 5
}
